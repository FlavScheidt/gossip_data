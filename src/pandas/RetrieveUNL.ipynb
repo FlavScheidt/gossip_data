{
 "cells": [
  {
   "cell_type": "code",
   "execution_count": 1,
   "metadata": {},
   "outputs": [],
   "source": [
    "import json\n",
    "from hashlib import sha256\n",
    "from base64 import b64decode\n",
    "import requests\n",
    "import numpy as np\n",
    "import sys\n",
    "import pandas as pd\n",
    "\n",
    "\n",
    "def rippled_bs58(key):\n",
    "    '''\n",
    "    Returns a string that is encoded using the rippled base58 alphabet.\n",
    "    '''\n",
    "    alphabet = b'rpshnaf39wBUDNEGHJKLM4PQRST7VWXYZ2bcdeCg65jkm8oFqi1tuvAxyz'\n",
    "    string = b\"\"\n",
    "    while key:\n",
    "        key, idx = divmod(key, 58)\n",
    "        string = alphabet[idx:idx+1] + string\n",
    "    return string\n",
    "\n",
    "def unl_parser(address='https://vl.xrplf.org'):\n",
    "    '''\n",
    "    Download the UNL and base64 decode the blob.\n",
    "    Defaults to https://vl.ripple.com\n",
    "    Individual validation keys are then constructed from the decoded blob\n",
    "    payload and the double sha256 hashed checksums. Keys are then base58 encoded.\n",
    "    '''\n",
    "    keys = {'status': 'Error',\n",
    "            'error': False,\n",
    "            'http_code': '',\n",
    "            'public_validation_keys': [],\n",
    "            'expiration': '',}\n",
    "\n",
    "    try:\n",
    "        unl = requests.get(address)\n",
    "        keys['http_code'] = unl.status_code\n",
    "        unl.raise_for_status()\n",
    "    except requests.exceptions.RequestException:\n",
    "        keys['error'] = \"Invalid URL: {}.\".format(address)\n",
    "        return pd.DataFrame(keys['error'], columns=['error'])\n",
    "\n",
    "    try:\n",
    "        blob = json.loads(b64decode(unl.json()['blob']).decode('utf-8'))\n",
    "        validators = blob['validators']\n",
    "        '''\n",
    "        Convert Ripple Epoch to Unix Epoch\n",
    "        Reference : https://xrpl.org/basic-data-types.html\n",
    "        '''\n",
    "        keys['expiration'] = blob['expiration'] + 946684800\n",
    "\n",
    "    except json.decoder.JSONDecodeError:\n",
    "        keys['error'] = \"Invalid or malformed manifest.\"\n",
    "        return pd.DataFrame(keys['error'], columns=['error'])\n",
    "\n",
    "    if not validators:\n",
    "        keys['error'] = \"List of validator keys was empty.\"\n",
    "        return pd.DataFrame(keys['error'], columns=['error'])\n",
    "\n",
    "    for i in validators:\n",
    "        payload = \"1C\" + i['validation_public_key']\n",
    "        keys['public_validation_keys'].append(\n",
    "            rippled_bs58(int(payload + sha256(bytearray.fromhex(sha256(\n",
    "                bytearray.fromhex(payload)).hexdigest())).hexdigest()[0:8], 16)).decode('utf-8'))\n",
    "#         print(rippled_bs58(int(payload + sha256(bytearray.fromhex(sha256(\n",
    "#                 bytearray.fromhex(payload)).hexdigest())).hexdigest()[0:8], 16)).decode('utf-8'))\n",
    "#     keys['status'] = 'Success'\n",
    "    \n",
    "    return pd.DataFrame(keys['public_validation_keys'], columns=['validator_keys'])"
   ]
  },
  {
   "cell_type": "code",
   "execution_count": 2,
   "metadata": {},
   "outputs": [
    {
     "name": "stdout",
     "output_type": "stream",
     "text": [
      "34\n"
     ]
    },
    {
     "data": {
      "text/html": [
       "<div>\n",
       "<style scoped>\n",
       "    .dataframe tbody tr th:only-of-type {\n",
       "        vertical-align: middle;\n",
       "    }\n",
       "\n",
       "    .dataframe tbody tr th {\n",
       "        vertical-align: top;\n",
       "    }\n",
       "\n",
       "    .dataframe thead th {\n",
       "        text-align: right;\n",
       "    }\n",
       "</style>\n",
       "<table border=\"1\" class=\"dataframe\">\n",
       "  <thead>\n",
       "    <tr style=\"text-align: right;\">\n",
       "      <th></th>\n",
       "      <th>validator_keys</th>\n",
       "    </tr>\n",
       "  </thead>\n",
       "  <tbody>\n",
       "    <tr>\n",
       "      <th>0</th>\n",
       "      <td>nHB8QMKGt9VB4Vg71VszjBVQnDW3v3QudM4DwFaJfy96bj...</td>\n",
       "    </tr>\n",
       "    <tr>\n",
       "      <th>1</th>\n",
       "      <td>nHBdXSF6YHAHSZUk7rvox6jwbvvyqBnsWGcewBtq8x1XuH...</td>\n",
       "    </tr>\n",
       "    <tr>\n",
       "      <th>2</th>\n",
       "      <td>nHBgiH2aih5JoaL3wbiiqSQfhrC21vJjxXoCoD2fuqcNbr...</td>\n",
       "    </tr>\n",
       "    <tr>\n",
       "      <th>3</th>\n",
       "      <td>nHBidG3pZK11zQD6kpNDoAhDxH6WLGui6ZxSbUx7LSqLHs...</td>\n",
       "    </tr>\n",
       "    <tr>\n",
       "      <th>4</th>\n",
       "      <td>nHDB2PAPYqF86j9j3c6w1F1ZqwvQfiWcFShZ9Pokg9q4oh...</td>\n",
       "    </tr>\n",
       "  </tbody>\n",
       "</table>\n",
       "</div>"
      ],
      "text/plain": [
       "                                      validator_keys\n",
       "0  nHB8QMKGt9VB4Vg71VszjBVQnDW3v3QudM4DwFaJfy96bj...\n",
       "1  nHBdXSF6YHAHSZUk7rvox6jwbvvyqBnsWGcewBtq8x1XuH...\n",
       "2  nHBgiH2aih5JoaL3wbiiqSQfhrC21vJjxXoCoD2fuqcNbr...\n",
       "3  nHBidG3pZK11zQD6kpNDoAhDxH6WLGui6ZxSbUx7LSqLHs...\n",
       "4  nHDB2PAPYqF86j9j3c6w1F1ZqwvQfiWcFShZ9Pokg9q4oh..."
      ]
     },
     "execution_count": 2,
     "metadata": {},
     "output_type": "execute_result"
    }
   ],
   "source": [
    "vl = unl_parser(\"https://vl.ripple.com\")\n",
    "vl = vl.sort_values(by=['validator_keys']).reset_index(drop=True)\n",
    "vl_quantity=vl['validator_keys'].count()\n",
    "\n",
    "print(vl_quantity)\n",
    "\n",
    "vl.head(5)"
   ]
  },
  {
   "cell_type": "code",
   "execution_count": 3,
   "metadata": {},
   "outputs": [
    {
     "name": "stdout",
     "output_type": "stream",
     "text": [
      "34\n"
     ]
    },
    {
     "data": {
      "text/html": [
       "<div>\n",
       "<style scoped>\n",
       "    .dataframe tbody tr th:only-of-type {\n",
       "        vertical-align: middle;\n",
       "    }\n",
       "\n",
       "    .dataframe tbody tr th {\n",
       "        vertical-align: top;\n",
       "    }\n",
       "\n",
       "    .dataframe thead th {\n",
       "        text-align: right;\n",
       "    }\n",
       "</style>\n",
       "<table border=\"1\" class=\"dataframe\">\n",
       "  <thead>\n",
       "    <tr style=\"text-align: right;\">\n",
       "      <th></th>\n",
       "      <th>validator_keys</th>\n",
       "    </tr>\n",
       "  </thead>\n",
       "  <tbody>\n",
       "    <tr>\n",
       "      <th>0</th>\n",
       "      <td>nHB8QMKGt9VB4Vg71VszjBVQnDW3v3QudM4DwFaJfy96bj...</td>\n",
       "    </tr>\n",
       "    <tr>\n",
       "      <th>1</th>\n",
       "      <td>nHBdXSF6YHAHSZUk7rvox6jwbvvyqBnsWGcewBtq8x1XuH...</td>\n",
       "    </tr>\n",
       "    <tr>\n",
       "      <th>2</th>\n",
       "      <td>nHBgiH2aih5JoaL3wbiiqSQfhrC21vJjxXoCoD2fuqcNbr...</td>\n",
       "    </tr>\n",
       "    <tr>\n",
       "      <th>3</th>\n",
       "      <td>nHBidG3pZK11zQD6kpNDoAhDxH6WLGui6ZxSbUx7LSqLHs...</td>\n",
       "    </tr>\n",
       "    <tr>\n",
       "      <th>4</th>\n",
       "      <td>nHDB2PAPYqF86j9j3c6w1F1ZqwvQfiWcFShZ9Pokg9q4oh...</td>\n",
       "    </tr>\n",
       "  </tbody>\n",
       "</table>\n",
       "</div>"
      ],
      "text/plain": [
       "                                      validator_keys\n",
       "0  nHB8QMKGt9VB4Vg71VszjBVQnDW3v3QudM4DwFaJfy96bj...\n",
       "1  nHBdXSF6YHAHSZUk7rvox6jwbvvyqBnsWGcewBtq8x1XuH...\n",
       "2  nHBgiH2aih5JoaL3wbiiqSQfhrC21vJjxXoCoD2fuqcNbr...\n",
       "3  nHBidG3pZK11zQD6kpNDoAhDxH6WLGui6ZxSbUx7LSqLHs...\n",
       "4  nHDB2PAPYqF86j9j3c6w1F1ZqwvQfiWcFShZ9Pokg9q4oh..."
      ]
     },
     "execution_count": 3,
     "metadata": {},
     "output_type": "execute_result"
    }
   ],
   "source": [
    "xrplf = unl_parser(\"https://vl.xrplf.org\")\n",
    "xrplf = xrplf.sort_values(by=['validator_keys']).reset_index(drop=True)\n",
    "xrplf_quantity=xrplf['validator_keys'].count()\n",
    "\n",
    "print(xrplf_quantity)\n",
    "\n",
    "xrplf.head(5)"
   ]
  },
  {
   "cell_type": "code",
   "execution_count": 4,
   "metadata": {},
   "outputs": [
    {
     "name": "stdout",
     "output_type": "stream",
     "text": [
      "34\n"
     ]
    },
    {
     "data": {
      "text/html": [
       "<div>\n",
       "<style scoped>\n",
       "    .dataframe tbody tr th:only-of-type {\n",
       "        vertical-align: middle;\n",
       "    }\n",
       "\n",
       "    .dataframe tbody tr th {\n",
       "        vertical-align: top;\n",
       "    }\n",
       "\n",
       "    .dataframe thead th {\n",
       "        text-align: right;\n",
       "    }\n",
       "</style>\n",
       "<table border=\"1\" class=\"dataframe\">\n",
       "  <thead>\n",
       "    <tr style=\"text-align: right;\">\n",
       "      <th></th>\n",
       "      <th>validator_keys</th>\n",
       "    </tr>\n",
       "  </thead>\n",
       "  <tbody>\n",
       "    <tr>\n",
       "      <th>0</th>\n",
       "      <td>nHB8QMKGt9VB4Vg71VszjBVQnDW3v3QudM4DwFaJfy96bj...</td>\n",
       "    </tr>\n",
       "    <tr>\n",
       "      <th>1</th>\n",
       "      <td>nHBdXSF6YHAHSZUk7rvox6jwbvvyqBnsWGcewBtq8x1XuH...</td>\n",
       "    </tr>\n",
       "    <tr>\n",
       "      <th>2</th>\n",
       "      <td>nHBgiH2aih5JoaL3wbiiqSQfhrC21vJjxXoCoD2fuqcNbr...</td>\n",
       "    </tr>\n",
       "    <tr>\n",
       "      <th>3</th>\n",
       "      <td>nHBidG3pZK11zQD6kpNDoAhDxH6WLGui6ZxSbUx7LSqLHs...</td>\n",
       "    </tr>\n",
       "    <tr>\n",
       "      <th>4</th>\n",
       "      <td>nHDB2PAPYqF86j9j3c6w1F1ZqwvQfiWcFShZ9Pokg9q4oh...</td>\n",
       "    </tr>\n",
       "  </tbody>\n",
       "</table>\n",
       "</div>"
      ],
      "text/plain": [
       "                                      validator_keys\n",
       "0  nHB8QMKGt9VB4Vg71VszjBVQnDW3v3QudM4DwFaJfy96bj...\n",
       "1  nHBdXSF6YHAHSZUk7rvox6jwbvvyqBnsWGcewBtq8x1XuH...\n",
       "2  nHBgiH2aih5JoaL3wbiiqSQfhrC21vJjxXoCoD2fuqcNbr...\n",
       "3  nHBidG3pZK11zQD6kpNDoAhDxH6WLGui6ZxSbUx7LSqLHs...\n",
       "4  nHDB2PAPYqF86j9j3c6w1F1ZqwvQfiWcFShZ9Pokg9q4oh..."
      ]
     },
     "execution_count": 4,
     "metadata": {},
     "output_type": "execute_result"
    }
   ],
   "source": [
    "coil = unl_parser(\"https://vl.coil.com\")\n",
    "coil = coil.sort_values(by=['validator_keys']).reset_index(drop=True)\n",
    "coil_quantity=vl['validator_keys'].count()\n",
    "\n",
    "print(coil_quantity)\n",
    "\n",
    "coil.head(5)"
   ]
  },
  {
   "cell_type": "code",
   "execution_count": 5,
   "metadata": {},
   "outputs": [
    {
     "data": {
      "text/html": [
       "<div>\n",
       "<style scoped>\n",
       "    .dataframe tbody tr th:only-of-type {\n",
       "        vertical-align: middle;\n",
       "    }\n",
       "\n",
       "    .dataframe tbody tr th {\n",
       "        vertical-align: top;\n",
       "    }\n",
       "\n",
       "    .dataframe thead th {\n",
       "        text-align: right;\n",
       "    }\n",
       "</style>\n",
       "<table border=\"1\" class=\"dataframe\">\n",
       "  <thead>\n",
       "    <tr style=\"text-align: right;\">\n",
       "      <th></th>\n",
       "      <th>validator_keys</th>\n",
       "    </tr>\n",
       "  </thead>\n",
       "  <tbody>\n",
       "  </tbody>\n",
       "</table>\n",
       "</div>"
      ],
      "text/plain": [
       "Empty DataFrame\n",
       "Columns: [validator_keys]\n",
       "Index: []"
      ]
     },
     "execution_count": 5,
     "metadata": {},
     "output_type": "execute_result"
    }
   ],
   "source": [
    "#Print validators that are present in only one or two of the lists\n",
    "\n",
    "diff = pd.concat([vl,xrplf,coil]).drop_duplicates(keep=False)\n",
    "\n",
    "diff.head(50)"
   ]
  },
  {
   "cell_type": "code",
   "execution_count": 6,
   "metadata": {},
   "outputs": [
    {
     "name": "stdout",
     "output_type": "stream",
     "text": [
      "True\n",
      "True\n"
     ]
    }
   ],
   "source": [
    "#are the UNLs equal?\n",
    "\n",
    "print(vl['validator_keys'].equals(xrplf['validator_keys']))\n",
    "print(xrplf['validator_keys'].equals(coil['validator_keys']))"
   ]
  },
  {
   "cell_type": "code",
   "execution_count": null,
   "metadata": {},
   "outputs": [],
   "source": []
  }
 ],
 "metadata": {
  "kernelspec": {
   "display_name": "Python 3 (ipykernel)",
   "language": "python",
   "name": "python3"
  },
  "language_info": {
   "codemirror_mode": {
    "name": "ipython",
    "version": 3
   },
   "file_extension": ".py",
   "mimetype": "text/x-python",
   "name": "python",
   "nbconvert_exporter": "python",
   "pygments_lexer": "ipython3",
   "version": "3.7.13"
  }
 },
 "nbformat": 4,
 "nbformat_minor": 4
}
