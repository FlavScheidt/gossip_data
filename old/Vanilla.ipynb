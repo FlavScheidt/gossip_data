{
 "cells": [
  {
   "cell_type": "code",
   "execution_count": 1,
   "metadata": {},
   "outputs": [],
   "source": [
    "import numpy as np\n",
    "import sys\n",
    "import pandas as pd\n",
    "#\n",
    "import matplotlib.pyplot as plt\n",
    "\n",
    "import matplotlib.ticker as ticker\n",
    "# from collections import namedtuple\n",
    "\n",
    "try:\n",
    "    # for Python2\n",
    "    from Tkinter import *   ## notice capitalized T in Tkinter \n",
    "except ImportError:\n",
    "    # for Python3\n",
    "    from tkinter import *   ## notice lowercase 't' in tkinter here"
   ]
  },
  {
   "cell_type": "code",
   "execution_count": null,
   "metadata": {},
   "outputs": [],
   "source": [
    "fileHandle = open('/home/flav/gossip_data/log_rippled.out', \"r\", encoding=\"latin1\")\n",
    "lines = fileHandle.readlines()\n",
    "\n",
    "with open('/home/flav/gossip_data/log_rippled_filter.out', 'w+') as f:\n",
    "    for line in lines:\n",
    "      if 'received' in line:\n",
    "        print(line.replace(\"\t\", \"\"), file=f)\n",
    "fileHandle.close()"
   ]
  }
 ],
 "metadata": {
  "kernelspec": {
   "display_name": "Python 3",
   "language": "python",
   "name": "python3"
  },
  "language_info": {
   "codemirror_mode": {
    "name": "ipython",
    "version": 3
   },
   "file_extension": ".py",
   "mimetype": "text/x-python",
   "name": "python",
   "nbconvert_exporter": "python",
   "pygments_lexer": "ipython3",
   "version": "3.7.4"
  }
 },
 "nbformat": 4,
 "nbformat_minor": 4
}
